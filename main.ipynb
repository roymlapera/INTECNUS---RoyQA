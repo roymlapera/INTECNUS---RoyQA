{
 "cells": [
  {
   "cell_type": "code",
   "execution_count": 21,
   "metadata": {},
   "outputs": [
    {
     "name": "stdout",
     "output_type": "stream",
     "text": [
      "Datos de dosis ingresada:\n",
      "Equipo: SYNERGY, DFP: 1000, TC: 200*200, Z: 019, Eje: X, Energía: \n",
      "Equipo: SYNERGY, DFP: 1000, TC: 200*200, Z: 019, Eje: Y, Energía: \n",
      "\n",
      "Datos de perfiles medidos ingresados:\n",
      "Datos de dosis ingresada:\n",
      "Equipo: SYNERGY, DFP: 1000, TC: 100*100, Z: 000.0, Eje: Z, Energía: E06\n",
      "Equipo: SYNERGY, DFP: 1000, TC: 200*200, Z: 018, Eje: X, Energía: E06\n",
      "Equipo: SYNERGY, DFP: 1000, TC: 200*200, Z: 028, Eje: X, Energía: E06\n",
      "Equipo: SYNERGY, DFP: 1000, TC: 200*200, Z: 039, Eje: X, Energía: E06\n",
      "Equipo: SYNERGY, DFP: 1000, TC: 200*200, Z: 047, Eje: X, Energía: E06\n",
      "Equipo: SYNERGY, DFP: 1000, TC: 300*300, Z: 100, Eje: X, Energía: E06\n",
      "Equipo: SYNERGY, DFP: 1000, TC: 200*200, Z: 018, Eje: Y, Energía: E06\n",
      "Equipo: SYNERGY, DFP: 1000, TC: 200*200, Z: 028, Eje: Y, Energía: E06\n",
      "Equipo: SYNERGY, DFP: 1000, TC: 200*200, Z: 039, Eje: Y, Energía: E06\n",
      "Equipo: SYNERGY, DFP: 1000, TC: 200*200, Z: 047, Eje: Y, Energía: E06\n",
      "Equipo: SYNERGY, DFP: 1000, TC: 300*300, Z: 100, Eje: Y, Energía: E06\n"
     ]
    },
    {
     "name": "stderr",
     "output_type": "stream",
     "text": [
      "Exception in Tkinter callback\n",
      "Traceback (most recent call last):\n",
      "  File \"c:\\Users\\roy.lapera\\AppData\\Local\\anaconda3\\envs\\radio-env\\Lib\\tkinter\\__init__.py\", line 1948, in __call__\n",
      "    return self.func(*args)\n",
      "           ^^^^^^^^^^^^^^^^\n",
      "  File \"p:\\8 - Físicos Médicos\\Roy\\RoyQA\\GUI.py\", line 56, in AnalisisPerfiles\n",
      "    Perfiles_med, Perfiles_cal = curv.ProcesaCurva(Perfiles_med,Perfiles_cal,espaciamiento=0.5,sigma_suavizado=0.00005)\n",
      "                                 ^^^^^^^^^^^^^^^^^^^^^^^^^^^^^^^^^^^^^^^^^^^^^^^^^^^^^^^^^^^^^^^^^^^^^^^^^^^^^^^^^^^^^^\n",
      "  File \"p:\\8 - Físicos Médicos\\Roy\\RoyQA\\Curvas.py\", line 351, in ProcesaCurva\n",
      "    Curvas_med[i].valor = SuavizaYNormaliza(Curvas_med[i],sigma_suavizado)\n",
      "                          ^^^^^^^^^^^^^^^^^^^^^^^^^^^^^^^^^^^^^^^^^^^^^^^^\n",
      "  File \"p:\\8 - Físicos Médicos\\Roy\\RoyQA\\Curvas.py\", line 298, in SuavizaYNormaliza\n",
      "    return Curva_filtr/Curva_filtr.max()*100\n",
      "                       ^^^^^^^^^^^^^^^^^\n",
      "  File \"c:\\Users\\roy.lapera\\AppData\\Local\\anaconda3\\envs\\radio-env\\Lib\\site-packages\\numpy\\core\\_methods.py\", line 41, in _amax\n",
      "    return umr_maximum(a, axis, None, out, keepdims, initial, where)\n",
      "           ^^^^^^^^^^^^^^^^^^^^^^^^^^^^^^^^^^^^^^^^^^^^^^^^^^^^^^^^^\n",
      "ValueError: zero-size array to reduction operation maximum which has no identity\n"
     ]
    }
   ],
   "source": [
    "from GUI import VentanaPrincipal\n",
    "\n",
    "\n",
    "if __name__ == '__main__':\n",
    "   VentanaPrincipal()"
   ]
  },
  {
   "cell_type": "markdown",
   "metadata": {},
   "source": []
  }
 ],
 "metadata": {
  "kernelspec": {
   "display_name": "Python 3",
   "language": "python",
   "name": "python3"
  },
  "language_info": {
   "codemirror_mode": {
    "name": "ipython",
    "version": 3
   },
   "file_extension": ".py",
   "mimetype": "text/x-python",
   "name": "python",
   "nbconvert_exporter": "python",
   "pygments_lexer": "ipython3",
   "version": "3.11.4"
  }
 },
 "nbformat": 4,
 "nbformat_minor": 2
}
